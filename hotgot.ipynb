{
 "cells": [
  {
   "cell_type": "code",
   "execution_count": 17,
   "id": "b4c768b6-f814-4dc7-8184-4cd3920a293b",
   "metadata": {},
   "outputs": [],
   "source": [
    "import numpy as np\n",
    "import pandas as pd\n",
    "import matplotlib.pyplot as plt\n",
    "\n",
    "from sklearn.model_selection import train_test_split\n",
    "\n",
    "from tensorflow.keras.models import Sequential\n",
    "from tensorflow.keras.layers import Dense, Dropout, BatchNormalization, Conv2D, Flatten, MaxPooling2D\n",
    "from tensorflow.keras.callbacks import EarlyStopping\n",
    "from tensorflow.keras.regularizers import l2\n",
    "from keras.preprocessing import image\n",
    "from tensorflow.keras.preprocessing.image import array_to_img, img_to_array, ImageDataGenerator, load_img"
   ]
  },
  {
   "cell_type": "code",
   "execution_count": 23,
   "id": "1ef901ea-481d-4f1d-b423-6eb2704b776b",
   "metadata": {},
   "outputs": [],
   "source": [
    "train_datagen = ImageDataGenerator(\n",
    "        rescale=1./255,\n",
    "        # shear_range=0.2,\n",
    "        # zoom_range=0.2,\n",
    "        # horizontal_flip=True\n",
    ")\n",
    "\n",
    "test_datagen = ImageDataGenerator(rescale=1./255)"
   ]
  },
  {
   "cell_type": "code",
   "execution_count": 24,
   "id": "ba3c8269-7d64-4e01-ad82-b3e1605d9aa9",
   "metadata": {},
   "outputs": [
    {
     "name": "stdout",
     "output_type": "stream",
     "text": [
      "Found 3000 images belonging to 2 classes.\n"
     ]
    }
   ],
   "source": [
    "training_set = train_datagen.flow_from_directory(\n",
    "        \"hotdog-nothotdog/train\",\n",
    "        batch_size=32,\n",
    "        class_mode='binary',\n",
    "        target_size=(128, 128),\n",
    ") #class_mode is either binary or categorical"
   ]
  },
  {
   "cell_type": "code",
   "execution_count": 25,
   "id": "5caaae27-9bb5-493b-85d0-5250764e4f87",
   "metadata": {},
   "outputs": [
    {
     "name": "stdout",
     "output_type": "stream",
     "text": [
      "Found 644 images belonging to 2 classes.\n"
     ]
    }
   ],
   "source": [
    "test_set = test_datagen.flow_from_directory(\n",
    "        \"hotdog-nothotdog/test\",\n",
    "        target_size=(128, 128),\n",
    "        batch_size=32,\n",
    "        class_mode='binary')"
   ]
  },
  {
   "cell_type": "code",
   "execution_count": 26,
   "id": "4196b945-bf09-47f1-8e85-a405c02c5927",
   "metadata": {},
   "outputs": [],
   "source": [
    "cnn = Sequential([\n",
    "  Conv2D(32, 3, activation='relu', input_shape=(128, 128, 3)),\n",
    "  MaxPooling2D(2, strides=2),\n",
    "  Conv2D(64, 3, activation='relu'),\n",
    "  MaxPooling2D(2, strides=2),\n",
    "  Flatten(),\n",
    "  Dense(128, activation='relu'),\n",
    "  Dense(1, activation='sigmoid')\n",
    "\n",
    "])"
   ]
  },
  {
   "cell_type": "code",
   "execution_count": 27,
   "id": "d19d7b7b-8de3-426a-ba15-537df74b12d2",
   "metadata": {},
   "outputs": [
    {
     "name": "stdout",
     "output_type": "stream",
     "text": [
      "Epoch 1/50\n",
      "94/94 [==============================] - 19s 199ms/step - loss: 1.0523 - accuracy: 0.6043 - val_loss: 0.6178 - val_accuracy: 0.6786\n",
      "Epoch 2/50\n",
      "94/94 [==============================] - 18s 187ms/step - loss: 0.6285 - accuracy: 0.6763 - val_loss: 0.6282 - val_accuracy: 0.6506\n",
      "Epoch 3/50\n",
      "94/94 [==============================] - 28s 299ms/step - loss: 0.5344 - accuracy: 0.7340 - val_loss: 0.6364 - val_accuracy: 0.6910\n",
      "Epoch 4/50\n",
      "94/94 [==============================] - 22s 236ms/step - loss: 0.4515 - accuracy: 0.7913 - val_loss: 0.7528 - val_accuracy: 0.6491\n",
      "Epoch 5/50\n",
      "94/94 [==============================] - 21s 222ms/step - loss: 0.3642 - accuracy: 0.8363 - val_loss: 0.7207 - val_accuracy: 0.6832\n",
      "Epoch 6/50\n",
      "94/94 [==============================] - 21s 228ms/step - loss: 0.2679 - accuracy: 0.8910 - val_loss: 0.7853 - val_accuracy: 0.6848\n"
     ]
    },
    {
     "data": {
      "text/plain": [
       "<keras.src.callbacks.History at 0x289aeda80>"
      ]
     },
     "execution_count": 27,
     "metadata": {},
     "output_type": "execute_result"
    }
   ],
   "source": [
    "cnn.compile(\n",
    "    optimizer='rmsprop',\n",
    "    loss='bce',\n",
    "    metrics=['accuracy']\n",
    ")\n",
    "\n",
    "es = EarlyStopping(\n",
    "    monitor='val_loss',\n",
    "    patience=5,\n",
    "    restore_best_weights=True\n",
    ")\n",
    "\n",
    "cnn.fit(\n",
    "    x= training_set,\n",
    "    validation_data=test_set,\n",
    "    batch_size=32,\n",
    "    epochs=50,\n",
    "    callbacks=es,\n",
    ")"
   ]
  },
  {
   "cell_type": "code",
   "execution_count": null,
   "id": "c2bd7d62-4654-4f5f-aaa8-7f36a73fa97d",
   "metadata": {},
   "outputs": [],
   "source": [
    "cnn.evaluate(test_set)"
   ]
  },
  {
   "cell_type": "code",
   "execution_count": 21,
   "id": "a4a330b1-c041-4c77-88c4-988099e265ef",
   "metadata": {},
   "outputs": [
    {
     "name": "stdout",
     "output_type": "stream",
     "text": [
      "1/1 [==============================] - 0s 14ms/step\n"
     ]
    },
    {
     "data": {
      "text/plain": [
       "'nothotdog'"
      ]
     },
     "execution_count": 21,
     "metadata": {},
     "output_type": "execute_result"
    }
   ],
   "source": [
    "test_image = image.load_img('hotdog-nothotdog/test/hotdog/1510.jpg', target_size = (128, 128))\n",
    "test_image = image.img_to_array(test_image)\n",
    "test_image = np.expand_dims(test_image, axis = 0)\n",
    "result = cnn.predict(test_image)\n",
    "training_set.class_indices\n",
    "if result[0][0] > 0.5:\n",
    "    prediction = 'hotdog'\n",
    "else:\n",
    "    prediction = 'nothotdog'\n",
    "    \n",
    "prediction"
   ]
  }
 ],
 "metadata": {
  "kernelspec": {
   "display_name": "Python 3 (ipykernel)",
   "language": "python",
   "name": "python3"
  },
  "language_info": {
   "codemirror_mode": {
    "name": "ipython",
    "version": 3
   },
   "file_extension": ".py",
   "mimetype": "text/x-python",
   "name": "python",
   "nbconvert_exporter": "python",
   "pygments_lexer": "ipython3",
   "version": "3.10.9"
  }
 },
 "nbformat": 4,
 "nbformat_minor": 5
}
